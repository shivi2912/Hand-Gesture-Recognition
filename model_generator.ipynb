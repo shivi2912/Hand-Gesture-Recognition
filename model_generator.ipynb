{
  "nbformat": 4,
  "nbformat_minor": 0,
  "metadata": {
    "orig_nbformat": 4,
    "language_info": {
      "name": "python",
      "version": "3.9.2",
      "mimetype": "text/x-python",
      "codemirror_mode": {
        "name": "ipython",
        "version": 3
      },
      "pygments_lexer": "ipython3",
      "nbconvert_exporter": "python",
      "file_extension": ".py"
    },
    "kernelspec": {
      "name": "python3",
      "display_name": "Python 3.9.2 64-bit"
    },
    "interpreter": {
      "hash": "a8e9ca387ae050b0cffb3b7fd3cfaa3e16dc6269390b4b6d3e7bb7f5ab267083"
    },
    "colab": {
      "name": "model_generator.ipynb",
      "provenance": [],
      "collapsed_sections": []
    },
    "accelerator": "GPU"
  },
  "cells": [
    {
      "cell_type": "code",
      "metadata": {
        "id": "_S29uJ8YORpB",
        "colab": {
          "base_uri": "https://localhost:8080/"
        },
        "outputId": "84280ff2-bbe5-41c9-b0a9-639a7905c5e9"
      },
      "source": [
        "from google.colab import drive\n",
        "drive.mount(\"/content/drive\")\n",
        "import zipfile \n",
        "with zipfile.ZipFile('/content/drive/My Drive/Vision_Arcadia/gestures.zip','r') as zip_ref:\n",
        "    zip_ref.extractall('/content/data/')"
      ],
      "execution_count": 1,
      "outputs": [
        {
          "output_type": "stream",
          "name": "stdout",
          "text": [
            "Mounted at /content/drive\n"
          ]
        }
      ]
    },
    {
      "cell_type": "code",
      "metadata": {
        "id": "bemvdWptORou"
      },
      "source": [
        "import glob\n",
        "import matplotlib.pyplot as plt\n",
        "import numpy as np\n",
        "import tensorflow as tf\n",
        "import os\n",
        "from tensorflow.keras.preprocessing import image_dataset_from_directory\n",
        "import cv2\n",
        "import pandas as pd\n",
        "from skimage.transform import resize\n",
        "from imageio import imread\n",
        "import datetime\n",
        "from tensorflow.keras.preprocessing.image import ImageDataGenerator\n",
        "\n",
        "import random as rn\n",
        "\n",
        "rn.seed(30)\n",
        "from keras import backend as K\n",
        "from tensorflow.keras.models import Sequential, Model\n",
        "from tensorflow.keras.layers import Dense, Conv2D, MaxPooling2D, Flatten, Dropout, GlobalAveragePooling2D, Concatenate, BatchNormalization, Input\n",
        "from sklearn.model_selection import train_test_split\n",
        "from google.colab import files\n",
        "import pandas as pd\n",
        "import matplotlib.pyplot as plt\n",
        "\n",
        "tf.random.set_seed(30)"
      ],
      "execution_count": 2,
      "outputs": []
    },
    {
      "cell_type": "code",
      "metadata": {
        "id": "qBiTDhftORo2"
      },
      "source": [
        "train_dir = \"/content/data/gestures/train\"\n",
        "test_dir = \"/content/data/gestures/val\"\n",
        "img_size = (100,100)\n"
      ],
      "execution_count": 3,
      "outputs": []
    },
    {
      "cell_type": "code",
      "metadata": {
        "id": "kHP9GarfORo3"
      },
      "source": [
        "train_datagen = ImageDataGenerator(width_shift_range=0.1,\n",
        "                                   height_shift_range=0.1,\n",
        "                                   horizontal_flip=False,\n",
        "                                   rescale=1. / 255,\n",
        "                                   validation_split=0.2)\n",
        "validation_datagen = ImageDataGenerator(rescale=1. / 255, validation_split=0.8)\n"
      ],
      "execution_count": 4,
      "outputs": []
    },
    {
      "cell_type": "code",
      "metadata": {
        "id": "kbBBRE2RORo4",
        "colab": {
          "base_uri": "https://localhost:8080/"
        },
        "outputId": "85490ec7-a660-48d8-9ad5-b3db9a8e2b64"
      },
      "source": [
        "train_generator = train_datagen.flow_from_directory(directory=train_dir,\n",
        "                                                    target_size=img_size,\n",
        "                                                    batch_size=64,\n",
        "                                                    color_mode=\"grayscale\",\n",
        "                                                    class_mode=\"categorical\",\n",
        "                                                    subset=\"training\",\n",
        "                                                    shuffle=True,\n",
        "                                                    seed=42)\n",
        "validation_generator = validation_datagen.flow_from_directory(\n",
        "    directory=test_dir,\n",
        "    target_size=img_size,\n",
        "    batch_size=64,\n",
        "    color_mode=\"grayscale\",\n",
        "    class_mode=\"categorical\",\n",
        "    subset=\"validation\",\n",
        "    shuffle=True,\n",
        "    seed=42)\n",
        "#same for testing"
      ],
      "execution_count": 5,
      "outputs": [
        {
          "output_type": "stream",
          "name": "stdout",
          "text": [
            "Found 1960 images belonging to 7 classes.\n",
            "Found 840 images belonging to 7 classes.\n"
          ]
        }
      ]
    },
    {
      "cell_type": "code",
      "metadata": {
        "id": "WrrMS2WEORo5",
        "colab": {
          "base_uri": "https://localhost:8080/"
        },
        "outputId": "1168296f-f5b4-4916-80e2-6a1969bcd454"
      },
      "source": [
        "model = Sequential(name=\"Sequential_CNN\")\n",
        "\n",
        "model.add(Conv2D(32, (3, 3), activation='relu', input_shape=(100,100, 1)))\n",
        "model.add(MaxPooling2D((2, 2)))\n",
        "model.add(Conv2D(64, (3, 3), activation='relu'))\n",
        "model.add(MaxPooling2D((2, 2)))\n",
        "model.add(Flatten())\n",
        "model.add(Dense(256, activation='relu'))\n",
        "model.add(Dropout(0.15))\n",
        "model.add(Dense(128, activation='relu'))\n",
        "model.add(Dense(7, activation='softmax'))\n",
        "\n",
        "model.compile(loss='categorical_crossentropy',\n",
        "              optimizer=\"adam\",\n",
        "              metrics=['accuracy'])\n",
        "model.summary()"
      ],
      "execution_count": 6,
      "outputs": [
        {
          "output_type": "stream",
          "name": "stdout",
          "text": [
            "Model: \"Sequential_CNN\"\n",
            "_________________________________________________________________\n",
            "Layer (type)                 Output Shape              Param #   \n",
            "=================================================================\n",
            "conv2d (Conv2D)              (None, 98, 98, 32)        320       \n",
            "_________________________________________________________________\n",
            "max_pooling2d (MaxPooling2D) (None, 49, 49, 32)        0         \n",
            "_________________________________________________________________\n",
            "conv2d_1 (Conv2D)            (None, 47, 47, 64)        18496     \n",
            "_________________________________________________________________\n",
            "max_pooling2d_1 (MaxPooling2 (None, 23, 23, 64)        0         \n",
            "_________________________________________________________________\n",
            "flatten (Flatten)            (None, 33856)             0         \n",
            "_________________________________________________________________\n",
            "dense (Dense)                (None, 256)               8667392   \n",
            "_________________________________________________________________\n",
            "dropout (Dropout)            (None, 256)               0         \n",
            "_________________________________________________________________\n",
            "dense_1 (Dense)              (None, 128)               32896     \n",
            "_________________________________________________________________\n",
            "dense_2 (Dense)              (None, 7)                 903       \n",
            "=================================================================\n",
            "Total params: 8,720,007\n",
            "Trainable params: 8,720,007\n",
            "Non-trainable params: 0\n",
            "_________________________________________________________________\n"
          ]
        }
      ]
    },
    {
      "cell_type": "code",
      "metadata": {
        "id": "9ognQzxiORo7"
      },
      "source": [
        "epochs = 6\n",
        "batch_size = 64"
      ],
      "execution_count": 7,
      "outputs": []
    },
    {
      "cell_type": "code",
      "metadata": {
        "id": "zK_Ys369ORo-",
        "colab": {
          "base_uri": "https://localhost:8080/"
        },
        "outputId": "3c827f62-8060-426d-f765-b855a940efa7"
      },
      "source": [
        "history = model.fit(x=train_generator,\n",
        "                    epochs=epochs,\n",
        "                    validation_data=validation_generator)"
      ],
      "execution_count": 8,
      "outputs": [
        {
          "output_type": "stream",
          "name": "stdout",
          "text": [
            "Epoch 1/6\n",
            "31/31 [==============================] - 36s 139ms/step - loss: 0.5570 - accuracy: 0.8046 - val_loss: 0.1985 - val_accuracy: 0.9667\n",
            "Epoch 2/6\n",
            "31/31 [==============================] - 4s 127ms/step - loss: 0.0845 - accuracy: 0.9735 - val_loss: 0.1403 - val_accuracy: 0.9714\n",
            "Epoch 3/6\n",
            "31/31 [==============================] - 4s 125ms/step - loss: 0.0310 - accuracy: 0.9918 - val_loss: 0.1435 - val_accuracy: 0.9774\n",
            "Epoch 4/6\n",
            "31/31 [==============================] - 4s 126ms/step - loss: 0.0145 - accuracy: 0.9959 - val_loss: 0.0865 - val_accuracy: 0.9786\n",
            "Epoch 5/6\n",
            "31/31 [==============================] - 4s 125ms/step - loss: 0.0045 - accuracy: 0.9990 - val_loss: 0.0873 - val_accuracy: 0.9881\n",
            "Epoch 6/6\n",
            "31/31 [==============================] - 4s 124ms/step - loss: 0.0083 - accuracy: 0.9974 - val_loss: 0.0756 - val_accuracy: 0.9881\n"
          ]
        }
      ]
    },
    {
      "cell_type": "code",
      "metadata": {
        "id": "8e5AyGuvORo_",
        "colab": {
          "base_uri": "https://localhost:8080/",
          "height": 562
        },
        "outputId": "04a94ce3-f696-4bce-ad07-9791f7459b2a"
      },
      "source": [
        "accuracy = history.history['accuracy']\n",
        "val_acc = history.history['val_accuracy']\n",
        "loss = history.history['loss']\n",
        "val_loss = history.history['val_loss']\n",
        "\n",
        "epochs = range(len(accuracy))\n",
        "\n",
        "plt.plot(epochs, accuracy, 'r', label='Training accuracy')\n",
        "plt.plot(epochs, val_acc, 'b', label='Validation accuracy')\n",
        "plt.title('Training and validation accuracy')\n",
        "plt.ylim([0.00, 1.00])\n",
        "plt.legend(loc=0)\n",
        "plt.figure()\n",
        "\n",
        "plt.show()\n",
        "\n",
        "plt.plot(epochs, loss, 'r', label='Training loss')\n",
        "plt.plot(epochs, val_loss, 'b', label='Validation loss')\n",
        "plt.title('Training and validation loss')\n",
        "plt.legend(loc=0)\n",
        "plt.show()"
      ],
      "execution_count": 9,
      "outputs": [
        {
          "output_type": "display_data",
          "data": {
            "image/png": "[encoded data removed]",
            "text/plain": [
              "<Figure size 432x288 with 1 Axes>"
            ]
          },
          "metadata": {
            "needs_background": "light"
          }
        },
        {
          "output_type": "display_data",
          "data": {
            "text/plain": [
              "<Figure size 432x288 with 0 Axes>"
            ]
          },
          "metadata": {}
        },
        {
          "output_type": "display_data",
          "data": {
            "image/png": "[encoded data removed]",
            "text/plain": [
              "<Figure size 432x288 with 1 Axes>"
            ]
          },
          "metadata": {
            "needs_background": "light"
          }
        }
      ]
    },
    {
      "cell_type": "code",
      "metadata": {
        "id": "asklRsGzORpA",
        "colab": {
          "base_uri": "https://localhost:8080/"
        },
        "outputId": "def086a5-cd41-47f9-9907-fac5c9ac1df3"
      },
      "source": [
        "train_loss, train_acc = model.evaluate(train_generator)\n",
        "test_loss, test_acc = model.evaluate(validation_generator)\n",
        "print(\"final train accuracy = {:.2f}, validation accuracy = {:.2f}\".format(\n",
        "    train_acc * 100, test_acc * 100))"
      ],
      "execution_count": 10,
      "outputs": [
        {
          "output_type": "stream",
          "name": "stdout",
          "text": [
            "31/31 [==============================] - 3s 98ms/step - loss: 0.0045 - accuracy: 0.9995\n",
            "14/14 [==============================] - 1s 37ms/step - loss: 0.0756 - accuracy: 0.9881\n",
            "final train accuracy = 99.95, validation accuracy = 98.81\n"
          ]
        }
      ]
    },
    {
      "cell_type": "code",
      "metadata": {
        "id": "FfLGfYo1ngat",
        "colab": {
          "base_uri": "https://localhost:8080/"
        },
        "outputId": "fb58382d-6ee8-4a26-c0fe-09d71c3223e5"
      },
      "source": [
        "model.save(\"/content/Model_Hand_Gestures\")"
      ],
      "execution_count": 11,
      "outputs": [
        {
          "output_type": "stream",
          "name": "stdout",
          "text": [
            "INFO:tensorflow:Assets written to: /content/Model_Hand_Gestures/assets\n"
          ]
        }
      ]
    },
    {
      "cell_type": "code",
      "metadata": {
        "colab": {
          "base_uri": "https://localhost:8080/"
        },
        "id": "KhlHpLSa3FPw",
        "outputId": "9ca806c4-9b31-410e-b897-41fdb86a3093"
      },
      "source": [
        "!zip -r /content/Model_Hand_Gestures.zip /content/Model_Hand_Gestures"
      ],
      "execution_count": 12,
      "outputs": [
        {
          "output_type": "stream",
          "name": "stdout",
          "text": [
            "  adding: content/Model_Hand_Gestures/ (stored 0%)\n",
            "  adding: content/Model_Hand_Gestures/keras_metadata.pb (deflated 91%)\n",
            "  adding: content/Model_Hand_Gestures/saved_model.pb (deflated 89%)\n",
            "  adding: content/Model_Hand_Gestures/variables/ (stored 0%)\n",
            "  adding: content/Model_Hand_Gestures/variables/variables.index (deflated 65%)\n",
            "  adding: content/Model_Hand_Gestures/variables/variables.data-00000-of-00001 (deflated 7%)\n",
            "  adding: content/Model_Hand_Gestures/assets/ (stored 0%)\n"
          ]
        }
      ]
    },
    {
      "cell_type": "code",
      "metadata": {
        "id": "cf2x4IbG9-I7",
        "outputId": "31b6641c-e17a-4aa5-8d7c-f0bd52e9ebec",
        "colab": {
          "base_uri": "https://localhost:8080/",
          "height": 17
        }
      },
      "source": [
        "files.download('/content/Model_Hand_Gestures.zip')"
      ],
      "execution_count": 13,
      "outputs": [
        {
          "output_type": "display_data",
          "data": {
            "application/javascript": [
              "\n",
              "    async function download(id, filename, size) {\n",
              "      if (!google.colab.kernel.accessAllowed) {\n",
              "        return;\n",
              "      }\n",
              "      const div = document.createElement('div');\n",
              "      const label = document.createElement('label');\n",
              "      label.textContent = `Downloading \"${filename}\": `;\n",
              "      div.appendChild(label);\n",
              "      const progress = document.createElement('progress');\n",
              "      progress.max = size;\n",
              "      div.appendChild(progress);\n",
              "      document.body.appendChild(div);\n",
              "\n",
              "      const buffers = [];\n",
              "      let downloaded = 0;\n",
              "\n",
              "      const channel = await google.colab.kernel.comms.open(id);\n",
              "      // Send a message to notify the kernel that we're ready.\n",
              "      channel.send({})\n",
              "\n",
              "      for await (const message of channel.messages) {\n",
              "        // Send a message to notify the kernel that we're ready.\n",
              "        channel.send({})\n",
              "        if (message.buffers) {\n",
              "          for (const buffer of message.buffers) {\n",
              "            buffers.push(buffer);\n",
              "            downloaded += buffer.byteLength;\n",
              "            progress.value = downloaded;\n",
              "          }\n",
              "        }\n",
              "      }\n",
              "      const blob = new Blob(buffers, {type: 'application/binary'});\n",
              "      const a = document.createElement('a');\n",
              "      a.href = window.URL.createObjectURL(blob);\n",
              "      a.download = filename;\n",
              "      div.appendChild(a);\n",
              "      a.click();\n",
              "      div.remove();\n",
              "    }\n",
              "  "
            ],
            "text/plain": [
              "<IPython.core.display.Javascript object>"
            ]
          },
          "metadata": {}
        },
        {
          "output_type": "display_data",
          "data": {
            "application/javascript": [
              "download(\"download_9a63a220-28fc-430a-9374-21ff2c00c09b\", \"Model_Hand_Gestures.zip\", 97511709)"
            ],
            "text/plain": [
              "<IPython.core.display.Javascript object>"
            ]
          },
          "metadata": {}
        }
      ]
    }
  ]
}
